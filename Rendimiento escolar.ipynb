{
 "cells": [
  {
   "cell_type": "markdown",
   "id": "f7e0b2d2-fb1b-48ab-92f9-2dff7b3d74df",
   "metadata": {
    "tags": []
   },
   "source": [
    "## <div style=\"text-align: center\">Análisis de factores que influyen en el rendimiento escolar<br/><br/> </div> <div style=\"text-align: center\"> Patricia Pérez Felibert 👩‍💻 </div>"
   ]
  },
  {
   "cell_type": "markdown",
   "id": "39103869-eeb9-4f98-9cb0-ddbed1340d76",
   "metadata": {},
   "source": [
    "## __Aspectos Preliminares:__\n",
    "* __Problema a estudiar:__ Desarrollar un modelo donde podamos identificar los factores que influyen en el desempeño académico de los alumnos de una escuela Portuguesa, nos enfocaremos en aquellos que presentan un bajo desempeño y esto será medido en el promedio final del año escolar. Nos apoyaremos en un archivo con registros sociodemográficos y conductuales de los alumnos de dos escuelas para perfilar a los estudiantes.\n",
    "\n",
    "* __Tipo de modelo:__ Realizaremos un modelo de predicción de regresión lineal, donde buscaremos identificar a los individuos con bajo promedio escolar. Se decide realizar este tipo de modelo ya que el vector objetivo representa un rango de notas obtenidas por los estudiantes durante el año escolar, por lo que nos apoyaremos en un modelo de regresión lineal para desarrrollar el análisis.\n",
    "\n",
    "* __Métricas a estudiar:__ Evaluaremos las métricas r2 y mse, las cuales nos proveen información importante sobre el desempeño del modelo y de esta manera comprender si el modelo esta capturando la mayor variabilidad de los datos.\n",
    "\n",
    "## __Aspectos computacionales:__\n",
    "* __Librerías a utilizar:__ \n",
    "    * __Ingesta:__ Pandas y numpy.\n",
    "    * __Preprocesamiento:__ Pandas, numpy y distintas funciones del modulo preprocessing de la librería sklearn, por ejemplo StandarScaler para estandarizar los datos.\n",
    "    * __Visualización:__ Seaborn, missingno y matplotlib.\n",
    "    * __Modelación:__ \n",
    "        * Función LinearRegression, del módulo linear_model , librería sklearn\n",
    "    * __Métricas de evaluación:__ \n",
    "        * mean_squared_error , r2_score podemos obtenerlas del módulo metrics en la librería sklearn, estas métricas nos proveen información importante sobre el desempeño del modelo y de esta manera comprender si el modelo esta capturando la mayor variabilidad de los datos\n",
    "    \n",
    "* __Preprocesamiento:__ Iniciaremos con una inspección del set de datos, identificando la cantidad de columnas y tipos de variables en cada una. Posteriormente evaluaremos si hay presencia de datos nulos o mal ingresados, los cuales eliminaremos para no afectar el modelo.\n",
    "\n",
    "* __Recodificación:__ Una vez que el set se encuentra libre de datos nulos, realizaremos una recodificación de las columnas que poseen registros de tipo texto, transformándolos a valores discretos según su categoría. Éste proceso es importante ya que los modelos no son capaces de interpretar variables de tipo texto."
   ]
  },
  {
   "cell_type": "markdown",
   "id": "25a2e8e3-9c2e-4785-9dee-f6ffce71a0d3",
   "metadata": {},
   "source": [
    "__Descripción de la base de datos:__ Se debe utilizar el archivo students.csv. Las variables que componen la base son:\n",
    "* `school`: Escuela del estudiante. (binaria: 'GP' - Gabriel Pereira o 'MS' - Mousinho da Silveira).\n",
    "\n",
    "* `sex`: Sexo del estudiante. (binaria: 'F' - Mujer o 'M' - Hombre).\n",
    "* `age`: Edad del estudiante. (numérica: de 15 a 22).\n",
    "* `address`: Ubicación de la casa del estudiante. (binaria: 'U' - urbana o 'R' - rural).\n",
    "* `famsize`: Tamaño de la familia. (binaria: 'LE3' - less or equal to 3 or 'GT3' - greater than 3).\n",
    "* `Pstatus`: Estado cohabitacional de los padres. (binaria: 'T' - cohabitando juntos o 'A' - viviendo separados).\n",
    "* `Medu`: Nivel educacional de la madre. (numérica: 0 - ninguno, 1 - educación básica (4to), 2 - de 5to a 9, 3 - educación media, o 4 - educación superior).\n",
    "* `Fedu`: Nivel educacional del padre. (numérica: 0 - ninguno, 1 - educación básica (4to), 2 - de 5to a 9, 3 - educación media, o 4 - educación superior).\n",
    "* `Mjob`: Ocupación de la madre. (nominal: 'teacher' profesora, 'health' relacionada a salud, 'services' (e.g. administración pública o policía), 'at_home' en casa u 'other' otra).\n",
    "* `job`: Ocupación del padre (nominal: 'teacher' profesor, 'health' relacionado a salud, 'services' (e.g. administración pública o policía), 'at_home' en casa u 'other' otra).\n",
    "* `reason`: Razón para escoger la escuela (nominal: 'home' cercano a casa, 'reputation' reputación de la escuela, 'course' preferencia de cursos u 'other' otra).\n",
    "* `guardian`: Apoderado del estudiante (nominal: 'mother' madre, 'father' padre u 'other' otro).\n",
    "* `traveltime`: Tiempo de viaje entre hogar y colegio. Se debe codificar como:\n",
    "     * 1 si es menos de 15 min,\n",
    "     * 2 si es de 15 a 30 min,\n",
    "     * 3 si es de 30 min. a 1 hora,\n",
    "     * 4 - si es más de 1 hora).\n",
    "* `studytime`: Horas semanales dedicadas al estudio. Se debe codificar como:\n",
    "     * 1 si es menos de 2 horas,\n",
    "     * 2 si es de 2 a 5 horas,\n",
    "     * 3 si es de 5 a 10 horas,\n",
    "     * o 4 si es más de 10 horas.\n",
    "* `failures`: Número de clases reprobadas. (numérica: n si 1<=n<3, de lo contrario 4)\n",
    "* `schoolsup`: Apoyo educacional del colegio. (binaria: si o no).\n",
    "* `famsup`: Apoyo educacional familiar. (binaria: si o no).\n",
    "* `paid`: Clases particulares pagadas (matemáticas o portugués) (binaria: sí o no).\n",
    "* `activities`: Actividades extracurriculares. (binaria: si o no).\n",
    "* `nursery`: Asistió a guardería infantil. (binaria: si o no).\n",
    "* `higher`: Desea proseguir estudios superiores (binaria: si o no).\n",
    "* `internet`: Acceso a internet desde el hogar (binaria: si o no).\n",
    "* `romantic`: Relación romántica (binaria: si o no).\n",
    "* `famrel`: Calidad de las relaciones familiares. (numérica: de 1 - muy malas a 5 - excelentes).\n",
    "* `freetime`: Tiempo libre fuera del colegio (numérica: de 1 - muy poco a 5 - mucho).\n",
    "* `gooutp`: Salidas con amigos (numérica: de 1 - muy pocas a 5 - muchas).\n",
    "* `Dalc`: Consumo de alcohol en día de semana (numérica: de 1 - muy bajo a 5 - muy alto).\n",
    "* `Walc`: Consumo de alcohol en fines de semana (numérica: de 1 - muy bajo a 5 - muy alto).\n",
    "* `health`: Estado de salud actual (numérica: from 1 - muy malo to 5 - muy bueno).\n",
    "* `absences`: Cantidad de ausencias escolares (numérica: de 0 a 93).\n",
    "* `G1`: Notas durante el primer semestre (numérica: de 0 a 20). __Este es uno de sus vectores objetivos para el modelo descriptivo__.\n",
    "* `G2`: Notas durante el segundo semestre (numérica: de 0 a 20). __Este es uno de sus vectores objetivos para el modelo descriptivo.__\n",
    "* `G3`: Promedio final (numérica: de 0 a 20). __Este es uno de sus vectores objetivos para el modelo descriptivo y el vector a predecir en el modelo predictivo.__"
   ]
  },
  {
   "cell_type": "code",
   "execution_count": 1,
   "id": "732beee2-0bd5-40b7-89b3-bbdac31919bd",
   "metadata": {},
   "outputs": [],
   "source": [
    "import pandas as pd\n",
    "import numpy as np\n",
    "import missingno as msng\n",
    "import funciones as fn\n",
    "import chardet as chardet\n",
    "from sklearn.preprocessing import StandardScaler\n",
    "import seaborn as sns\n",
    "import matplotlib.pyplot as plt\n",
    "from sklearn.linear_model import LinearRegression\n",
    "from sklearn.model_selection import train_test_split\n",
    "\n",
    "\n",
    "import statsmodels.formula.api as smf\n",
    "from sklearn.metrics import r2_score, mean_squared_error"
   ]
  },
  {
   "cell_type": "code",
   "execution_count": 2,
   "id": "f28c8afe-a288-49d7-bfcb-edcdc4718b7e",
   "metadata": {},
   "outputs": [
    {
     "name": "stdout",
     "output_type": "stream",
     "text": [
      "El encoding del archivo es ascii\n"
     ]
    }
   ],
   "source": [
    "with open (\"students.csv\", \"rb\") as rawdata:\n",
    "    encoding = chardet.detect(rawdata.read(1000))\n",
    "print(\"El encoding del archivo es\",encoding[\"encoding\"])"
   ]
  },
  {
   "cell_type": "code",
   "execution_count": 3,
   "id": "b8b3d288-57bc-4989-abaf-bd082cf7a40a",
   "metadata": {},
   "outputs": [
    {
     "data": {
      "text/html": [
       "<div>\n",
       "<style scoped>\n",
       "    .dataframe tbody tr th:only-of-type {\n",
       "        vertical-align: middle;\n",
       "    }\n",
       "\n",
       "    .dataframe tbody tr th {\n",
       "        vertical-align: top;\n",
       "    }\n",
       "\n",
       "    .dataframe thead th {\n",
       "        text-align: right;\n",
       "    }\n",
       "</style>\n",
       "<table border=\"1\" class=\"dataframe\">\n",
       "  <thead>\n",
       "    <tr style=\"text-align: right;\">\n",
       "      <th></th>\n",
       "      <th>school</th>\n",
       "      <th>sex</th>\n",
       "      <th>age</th>\n",
       "      <th>address</th>\n",
       "      <th>famsize</th>\n",
       "      <th>Pstatus</th>\n",
       "      <th>Medu</th>\n",
       "      <th>Fedu</th>\n",
       "      <th>Mjob</th>\n",
       "      <th>Fjob</th>\n",
       "      <th>...</th>\n",
       "      <th>famrel</th>\n",
       "      <th>freetime</th>\n",
       "      <th>goout</th>\n",
       "      <th>Dalc</th>\n",
       "      <th>Walc</th>\n",
       "      <th>health</th>\n",
       "      <th>absences</th>\n",
       "      <th>G1</th>\n",
       "      <th>G2</th>\n",
       "      <th>G3</th>\n",
       "    </tr>\n",
       "  </thead>\n",
       "  <tbody>\n",
       "    <tr>\n",
       "      <th>0</th>\n",
       "      <td>GP</td>\n",
       "      <td>F</td>\n",
       "      <td>nulidade</td>\n",
       "      <td>U</td>\n",
       "      <td>GT3</td>\n",
       "      <td>A</td>\n",
       "      <td>4</td>\n",
       "      <td>4</td>\n",
       "      <td>at_home</td>\n",
       "      <td>teacher</td>\n",
       "      <td>...</td>\n",
       "      <td>4</td>\n",
       "      <td>3</td>\n",
       "      <td>\"4\"</td>\n",
       "      <td>1</td>\n",
       "      <td>1</td>\n",
       "      <td>\"3\"</td>\n",
       "      <td>6</td>\n",
       "      <td>5</td>\n",
       "      <td>6</td>\n",
       "      <td>6</td>\n",
       "    </tr>\n",
       "    <tr>\n",
       "      <th>1</th>\n",
       "      <td>GP</td>\n",
       "      <td>F</td>\n",
       "      <td>\"17\"</td>\n",
       "      <td>U</td>\n",
       "      <td>GT3</td>\n",
       "      <td>T</td>\n",
       "      <td>1</td>\n",
       "      <td>1</td>\n",
       "      <td>at_home</td>\n",
       "      <td>other</td>\n",
       "      <td>...</td>\n",
       "      <td>5</td>\n",
       "      <td>3</td>\n",
       "      <td>\"3\"</td>\n",
       "      <td>1</td>\n",
       "      <td>1</td>\n",
       "      <td>\"3\"</td>\n",
       "      <td>4</td>\n",
       "      <td>5</td>\n",
       "      <td>5</td>\n",
       "      <td>6</td>\n",
       "    </tr>\n",
       "    <tr>\n",
       "      <th>2</th>\n",
       "      <td>GP</td>\n",
       "      <td>F</td>\n",
       "      <td>\"15\"</td>\n",
       "      <td>U</td>\n",
       "      <td>LE3</td>\n",
       "      <td>T</td>\n",
       "      <td>1</td>\n",
       "      <td>1</td>\n",
       "      <td>at_home</td>\n",
       "      <td>other</td>\n",
       "      <td>...</td>\n",
       "      <td>4</td>\n",
       "      <td>3</td>\n",
       "      <td>\"2\"</td>\n",
       "      <td>2</td>\n",
       "      <td>3</td>\n",
       "      <td>\"3\"</td>\n",
       "      <td>10</td>\n",
       "      <td>zero</td>\n",
       "      <td>8</td>\n",
       "      <td>10</td>\n",
       "    </tr>\n",
       "    <tr>\n",
       "      <th>3</th>\n",
       "      <td>GP</td>\n",
       "      <td>F</td>\n",
       "      <td>\"15\"</td>\n",
       "      <td>U</td>\n",
       "      <td>GT3</td>\n",
       "      <td>T</td>\n",
       "      <td>4</td>\n",
       "      <td>2</td>\n",
       "      <td>health</td>\n",
       "      <td>services</td>\n",
       "      <td>...</td>\n",
       "      <td>3</td>\n",
       "      <td>2</td>\n",
       "      <td>\"2\"</td>\n",
       "      <td>1</td>\n",
       "      <td>1</td>\n",
       "      <td>\"5\"</td>\n",
       "      <td>2</td>\n",
       "      <td>15</td>\n",
       "      <td>14</td>\n",
       "      <td>15</td>\n",
       "    </tr>\n",
       "    <tr>\n",
       "      <th>4</th>\n",
       "      <td>GP</td>\n",
       "      <td>F</td>\n",
       "      <td>sem validade</td>\n",
       "      <td>U</td>\n",
       "      <td>GT3</td>\n",
       "      <td>T</td>\n",
       "      <td>3</td>\n",
       "      <td>3</td>\n",
       "      <td>other</td>\n",
       "      <td>other</td>\n",
       "      <td>...</td>\n",
       "      <td>4</td>\n",
       "      <td>3</td>\n",
       "      <td>\"2\"</td>\n",
       "      <td>1</td>\n",
       "      <td>2</td>\n",
       "      <td>\"5\"</td>\n",
       "      <td>4</td>\n",
       "      <td>6</td>\n",
       "      <td>10</td>\n",
       "      <td>10</td>\n",
       "    </tr>\n",
       "  </tbody>\n",
       "</table>\n",
       "<p>5 rows × 33 columns</p>\n",
       "</div>"
      ],
      "text/plain": [
       "  school sex           age address famsize Pstatus Medu Fedu     Mjob  \\\n",
       "0     GP   F      nulidade       U     GT3       A    4    4  at_home   \n",
       "1     GP   F          \"17\"       U     GT3       T    1    1  at_home   \n",
       "2     GP   F          \"15\"       U     LE3       T    1    1  at_home   \n",
       "3     GP   F          \"15\"       U     GT3       T    4    2   health   \n",
       "4     GP   F  sem validade       U     GT3       T    3    3    other   \n",
       "\n",
       "       Fjob  ... famrel freetime goout Dalc Walc health absences    G1  G2  G3  \n",
       "0   teacher  ...      4        3   \"4\"    1    1    \"3\"        6     5   6   6  \n",
       "1     other  ...      5        3   \"3\"    1    1    \"3\"        4     5   5   6  \n",
       "2     other  ...      4        3   \"2\"    2    3    \"3\"       10  zero   8  10  \n",
       "3  services  ...      3        2   \"2\"    1    1    \"5\"        2    15  14  15  \n",
       "4     other  ...      4        3   \"2\"    1    2    \"5\"        4     6  10  10  \n",
       "\n",
       "[5 rows x 33 columns]"
      ]
     },
     "execution_count": 3,
     "metadata": {},
     "output_type": "execute_result"
    }
   ],
   "source": [
    "df = pd.read_csv(\"students.csv\",delimiter=\"|\", encoding='ascii').drop(columns= \"Unnamed: 0\")\n",
    "df.head()"
   ]
  },
  {
   "cell_type": "markdown",
   "id": "fe7479d2-e431-429d-a46d-89bbe434a982",
   "metadata": {},
   "source": [
    "__Comentarios:__\n",
    "* Contamos con un set de datos que contiene 395 observaciones y 33 columnas, algunos datos fueron ingresados erroneamente como \"nulidade\",\"sem validade\",\"zero\", esto lo exploraremos más adelante.\n",
    "\n",
    "* En el set de datos predominan las columnas que poseen datos de tipo texto, solo la columna que describe las notas durante el segundo semestre es de tipo numérica, el resto del set sera recodificado a variables discretas y de esta manera poder interpretar la informacion que nos aportan."
   ]
  },
  {
   "cell_type": "code",
   "execution_count": 4,
   "id": "5c3fb13d-5abc-4eb5-bd55-bd250322346e",
   "metadata": {},
   "outputs": [
    {
     "name": "stdout",
     "output_type": "stream",
     "text": [
      "5 columnas con mayor cantidad de datos nulos:\n",
      "\n",
      " schoolsup    8\n",
      "Pstatus      6\n",
      "higher       6\n",
      "nursery      6\n",
      "Mjob         6\n",
      "dtype: int64\n"
     ]
    }
   ],
   "source": [
    "print(f\"5 columnas con mayor cantidad de datos nulos:\\n\\n\",df.replace([\"nulidade\",\"sem validade\",\"zero\"],np.nan).isnull().sum().sort_values(ascending=False)[:5])"
   ]
  },
  {
   "cell_type": "code",
   "execution_count": 5,
   "id": "b0a91282-6d30-423b-b707-cb1e382f4116",
   "metadata": {},
   "outputs": [
    {
     "data": {
      "image/png": "[encoded data removed]",
      "text/plain": [
       "<Figure size 1800x720 with 2 Axes>"
      ]
     },
     "metadata": {
      "needs_background": "light"
     },
     "output_type": "display_data"
    }
   ],
   "source": [
    "msng.matrix(df.replace([\"nulidade\",\"sem validade\",\"zero\"],np.nan));"
   ]
  },
  {
   "cell_type": "markdown",
   "id": "f3c4bc6f-38b4-4f1e-96c9-fca1f04102ae",
   "metadata": {},
   "source": [
    "__Comentarios:__ La columna que informa sobre si el estudiante posee apoyo educacional del colegio, contiene 8 datos nulos, siendo la que posee mayor cantidad en nuestro set de datos."
   ]
  },
  {
   "cell_type": "code",
   "execution_count": 6,
   "id": "2d093e07-e678-410e-a309-1294d7fbcbf5",
   "metadata": {},
   "outputs": [
    {
     "name": "stdout",
     "output_type": "stream",
     "text": [
      "El set sin datos nulos posee 284 observaciones\n"
     ]
    }
   ],
   "source": [
    "#Transforme los datos perdidos \"nulidade\",\"sem validade\",\"zero\" a nan para posteriormente eliminarlos\n",
    "df.replace([\"nulidade\",\"sem validade\",\"zero\"],np.nan,inplace=True)\n",
    "df= df.dropna()\n",
    "print(f\"El set sin datos nulos posee {df.shape[0]} observaciones\")"
   ]
  },
  {
   "cell_type": "markdown",
   "id": "4ec7deb5-8a77-4cda-9537-60e8a1d310b8",
   "metadata": {},
   "source": [
    "__Comentarios:__ La nueva dimensión del dataframe significa que hubo una reducción de 111 observaciones donde existia algun dato nulo."
   ]
  },
  {
   "cell_type": "code",
   "execution_count": 7,
   "id": "9eb8e544-2e22-4a70-8fbe-7cd5b355f2fc",
   "metadata": {},
   "outputs": [],
   "source": [
    "#Recodificacion de school\n",
    "df.rename(columns={\"school\":\"School_MS\"}, inplace=True)\n",
    "df[\"School_MS\"].replace(\"MS\",1,inplace=True)\n",
    "df[\"School_MS\"].replace(\"GP\",0,inplace=True)"
   ]
  },
  {
   "cell_type": "code",
   "execution_count": 8,
   "id": "a2957228-1950-452d-bc0b-3ceb040b2dea",
   "metadata": {},
   "outputs": [],
   "source": [
    "#Recodificacion de sex\n",
    "df.rename(columns={\"sex\": \"male\"}, inplace= True)\n",
    "df[\"male\"].replace(\"M\",1, inplace=True)\n",
    "df[\"male\"].replace(\"F\",0, inplace=True)"
   ]
  },
  {
   "cell_type": "code",
   "execution_count": 9,
   "id": "3697752a-a676-4ae5-b0cb-484dd1b76222",
   "metadata": {},
   "outputs": [],
   "source": [
    "#Recodificacion de age\n",
    "fn.str_to_int(df,\"age\",'\"')"
   ]
  },
  {
   "cell_type": "code",
   "execution_count": 10,
   "id": "ab12c8f4-48ba-47f7-ac37-431bb9e4d1e5",
   "metadata": {},
   "outputs": [],
   "source": [
    "#Recodificacion de address\n",
    "df.rename(columns={\"address\": \"rural_house\"}, inplace=True)\n",
    "df[\"rural_house\"].replace(\"R\",1, inplace= True)\n",
    "df[\"rural_house\"].replace(\"U\",0, inplace= True)"
   ]
  },
  {
   "cell_type": "code",
   "execution_count": 11,
   "id": "e65c99d7-4a8b-44cc-bb59-f6b3554f8bb4",
   "metadata": {},
   "outputs": [],
   "source": [
    "#Recodificacion de famsize\n",
    "df.rename(columns={\"famsize\":\"small_fam\"}, inplace=True)\n",
    "df[\"small_fam\"].replace(\"LE3\",1, inplace=True)\n",
    "df[\"small_fam\"].replace(\"GT3\",0, inplace=True)"
   ]
  },
  {
   "cell_type": "code",
   "execution_count": 12,
   "id": "dabdec95-7949-4d3b-a8a8-eb8451125e2d",
   "metadata": {},
   "outputs": [],
   "source": [
    "#Recodificacion de Pstatus\n",
    "df.rename(columns= {\"Pstatus\": \"separed_parents\"}, inplace=True)\n",
    "df[\"separed_parents\"].replace(\"A\",1, inplace=True)\n",
    "df[\"separed_parents\"].replace(\"T\",0, inplace=True)"
   ]
  },
  {
   "cell_type": "code",
   "execution_count": 13,
   "id": "9e9f4608-9acc-43b0-8090-4f3ee18db80c",
   "metadata": {},
   "outputs": [],
   "source": [
    "#Recodificacion de schoolsup\n",
    "df[\"schoolsup\"].replace(\"yes\",1,inplace=True)\n",
    "df[\"schoolsup\"].replace(\"no\",0,inplace=True)"
   ]
  },
  {
   "cell_type": "code",
   "execution_count": 14,
   "id": "db98afd1-2491-47af-bac2-286f0d0aab7e",
   "metadata": {},
   "outputs": [],
   "source": [
    "#Recodificacion de famsup\n",
    "df.rename(columns={\"famsup\":\"fam_without_sup\"}, inplace=True)\n",
    "df[\"fam_without_sup\"].replace(\"yes\",0,inplace=True)\n",
    "df[\"fam_without_sup\"].replace(\"no\",1,inplace=True)"
   ]
  },
  {
   "cell_type": "code",
   "execution_count": 15,
   "id": "9e4dc198-cadb-466a-9292-58c4e1f50e5e",
   "metadata": {},
   "outputs": [],
   "source": [
    "#Recodificacion de paid\n",
    "df[\"paid\"].replace(\"yes\",1,inplace=True)\n",
    "df[\"paid\"].replace(\"no\",0,inplace=True)"
   ]
  },
  {
   "cell_type": "code",
   "execution_count": 16,
   "id": "9db9ca2b-a3c7-47ef-a95b-79e9418e3d51",
   "metadata": {},
   "outputs": [],
   "source": [
    "#Recodificacion de activities\n",
    "df.rename(columns={\"activities\":\"without_activities\"}, inplace=True)\n",
    "df[\"without_activities\"].replace(\"yes\",0,inplace=True)\n",
    "df[\"without_activities\"].replace(\"no\",1,inplace=True)"
   ]
  },
  {
   "cell_type": "code",
   "execution_count": 17,
   "id": "66afc22c-4a9d-41db-9ad7-fcd55a59bbb1",
   "metadata": {
    "tags": []
   },
   "outputs": [],
   "source": [
    "#Recodificacion de nursery\n",
    "df.rename(columns={\"nursery\":\"no_nursery\"}, inplace=True)\n",
    "df[\"no_nursery\"].replace(\"yes\",0,inplace=True)\n",
    "df[\"no_nursery\"].replace(\"no\",1,inplace=True)"
   ]
  },
  {
   "cell_type": "code",
   "execution_count": 18,
   "id": "4f7a4ade-56ec-4379-a0af-c7cb7e6b27eb",
   "metadata": {},
   "outputs": [],
   "source": [
    "#Recodificacion de higher\n",
    "df.rename(columns={\"higher\":\"no_higher\"}, inplace=True)\n",
    "df[\"no_higher\"].replace(\"yes\",0,inplace=True)\n",
    "df[\"no_higher\"].replace(\"no\",1,inplace=True)"
   ]
  },
  {
   "cell_type": "code",
   "execution_count": 19,
   "id": "fac4935d-6164-49d6-9640-64e5c5ec2fb3",
   "metadata": {},
   "outputs": [],
   "source": [
    "#Recodificacion de internet\n",
    "df.rename(columns={\"internet\":\"no_internet\"}, inplace=True)\n",
    "df[\"no_internet\"].replace(\"yes\",0,inplace=True)\n",
    "df[\"no_internet\"].replace(\"no\",1,inplace=True)"
   ]
  },
  {
   "cell_type": "code",
   "execution_count": 20,
   "id": "7a36839a-d312-4873-b183-984f85fe3b16",
   "metadata": {},
   "outputs": [],
   "source": [
    "#Recodificacion de romantic\n",
    "df[\"romantic\"].replace(\"yes\",1,inplace=True,regex=True)\n",
    "df[\"romantic\"].replace(\"no\",0,inplace=True)"
   ]
  },
  {
   "cell_type": "code",
   "execution_count": 21,
   "id": "72192ddc-aac6-4ed1-abed-1442c2773e36",
   "metadata": {},
   "outputs": [],
   "source": [
    "#Recodificacion de goout \n",
    "fn.str_to_int(df, \"goout\", '\"')"
   ]
  },
  {
   "cell_type": "code",
   "execution_count": 22,
   "id": "e98b013a-2405-4104-bf0c-09c067978c86",
   "metadata": {},
   "outputs": [],
   "source": [
    "#Recodificacion de health\n",
    "fn.str_to_int(df,\"health\",'\"')"
   ]
  },
  {
   "cell_type": "code",
   "execution_count": 23,
   "id": "b7f15a69-817c-455d-bf43-870b84d66238",
   "metadata": {},
   "outputs": [],
   "source": [
    "#Recodificacion de columnas que poseen numeros en formato str a integer\n",
    "list = [\"Medu\",\"Fedu\", \"traveltime\", \"studytime\", \"failures\",\"famrel\",\"freetime\",\"Dalc\",\"Walc\",\"absences\",\"G1\",\"G3\"]\n",
    "for i in list:\n",
    "    df[i] = df[i].astype(int)"
   ]
  },
  {
   "cell_type": "code",
   "execution_count": 24,
   "id": "bd53d1c4-12e3-4dea-9be6-b872597387b6",
   "metadata": {},
   "outputs": [],
   "source": [
    "df.Mjob.replace([\"other\", \"services\", \"teacher\", \"at_home\",\"health\"],[0,1,2,3,4], inplace=True)\n",
    "df.Fjob.replace([\"other\", \"services\", \"teacher\", \"health\",\"at_home\"],[0,1,2,3,4], inplace=True)\n",
    "df.reason.replace([\"course\",\"home\",\"reputation\",\"other\"],[0,1,2,3], inplace=True)\n",
    "df.guardian.replace([\"mother\",\"father\",\"other\"],[0,1,2], inplace=True)"
   ]
  },
  {
   "cell_type": "code",
   "execution_count": 25,
   "id": "f035fbbc-1f53-47f2-9d33-9a0506be95d9",
   "metadata": {},
   "outputs": [],
   "source": [
    "df[\"G1_approved\"] = np.where(df[\"G1\"] < 10,0,1)\n",
    "df[\"G2_approved\"] = np.where(df[\"G2\"] < 10,0,1)\n",
    "df[\"G3_approved\"] = np.where(df[\"G3\"] < 10,0,1)"
   ]
  },
  {
   "cell_type": "markdown",
   "id": "6ac0fabe-8b00-4535-963e-a46309bd9feb",
   "metadata": {},
   "source": [
    "__Comentarios:__  Realizo una nueva agrupación de los atributos que poseen variables categóricas, disminuyendo la cantidad de categorías por cada atributo, posteriormente renombro las variables nominales asignandole un numero a cada categoría."
   ]
  },
  {
   "cell_type": "markdown",
   "id": "8d0a65d6-9d4c-44f2-926f-ab527431eeb5",
   "metadata": {},
   "source": [
    "### __Descripción de la base de datos reestructurada:__\n",
    "Se debe utilizar el archivo students.csv. Las variables que componen la base son:\n",
    "* `School_MS`: Informa a cual escuela asiste el estudiante:\n",
    "    * 0 = Gabriel Pereira\n",
    "    * 1 = Mousinho da Silveira).\n",
    "* `male`: Sexo del estudiante.\n",
    "    * 0 = Mujer\n",
    "    * 1 = Hombre   \n",
    "* `age`: Edad del estudiante. (numérica: de 15 a 22).\n",
    "* `rural_house`: Ubicación de la casa del estudiante:\n",
    "    * 0 = urbana\n",
    "    * 1 = rural\n",
    "* `small_fam`: Tamaño de la familia:\n",
    "    * 0 = Less or equal to 3\n",
    "    * 1 = greater than 3\n",
    "* `separed_parents`: Estado cohabitacional de los padres:\n",
    "    * 0 = cohabitando juntos\n",
    "    * 1 = viviendo separados\n",
    "* `Medu`: Nivel educacional de la madre:\n",
    "     * 0 = ninguno\n",
    "     * 1 = educación básica (4to)\n",
    "     * 2 = de 5to a 9\n",
    "     * 3 = educación media\n",
    "     * 4 = educación superior\n",
    "* `Fedu`: Nivel educacional del padre:\n",
    "     * 0 = ninguno\n",
    "     * 1 = educación básica (4to)\n",
    "     * 2 = de 5to a 9\n",
    "     * 3 = educación media\n",
    "     * 4 = educación superior\n",
    "* `Mjob`: Ocupación de la madre:\n",
    "    * 0 = other\n",
    "    * 1 = services\n",
    "    * 2 = teacher\n",
    "    * 3 = at_home\n",
    "    * 4 = health    \n",
    "* `Fjob`: Ocupación del padre:\n",
    "    * 0 = other \n",
    "    * 1 = services \n",
    "    * 2 = teacher \n",
    "    * 3 = health\n",
    "    * 4 = at_home\n",
    "* `reason`: Razón para escoger la escuela:\n",
    "    * 0 = course\n",
    "    * 1 = home\n",
    "    * 2 = reputation\n",
    "    * 3 = other\n",
    "* `guardian`: Apoderado del estudiante:\n",
    "    * 0 = mother\n",
    "    * 1 = father\n",
    "    * 2 = other\n",
    "* `traveltime`: Tiempo de viaje entre hogar y colegio:\n",
    "     * 1 = Menos de 15 min,\n",
    "     * 2 = Entre 15 a 30 min,\n",
    "     * 3 = Entre 30 min. a 1 hora,\n",
    "     * 4 = Más de 1 hora).\n",
    "* `studytime`: Horas semanales dedicadas al estudio. Se debe codificar como:\n",
    "     * 1 si es menos de 2 horas,\n",
    "     * 2 si es de 2 a 5 horas,\n",
    "     * 3 si es de 5 a 10 horas,\n",
    "     * 4 si es más de 10 horas.\n",
    "* `failures`: Número de clases reprobadas:\n",
    "    n si 1<=n<3, de lo contrario 4\n",
    "* `schoolsup`: Apoyo educacional del colegio:\n",
    "    * 0 = No posee apoyo\n",
    "    * 1 = Si posee apoyo\n",
    "* `fam_without_sup`: Apoyo educacional familiar\n",
    "    * 0 = Con apoyo familiar\n",
    "    * 1 = Sin apoyo familiar\n",
    "* `paid`: Clases particulares pagadas (matemáticas o portugués):\n",
    "    * 0 = No paga clases particulares\n",
    "    * 1 = Si paga clases particulares\n",
    "* `without_activities`: Actividades extracurriculares:\n",
    "    * 0 = Si asiste a actividades\n",
    "    * 1 = No asiste a actividades\n",
    "* `no_nursery`: Asistió a guardería infantil:\n",
    "    * 0 = Si asistió a guardería\n",
    "    * 1 = No asistió a guardería\n",
    "* `no_higher`: Desea proseguir estudios superiores:\n",
    "    * 0 = Si desea proseguir estudios superiores\n",
    "    * 1 = No desea proseguir estudios superiores\n",
    "* `no_internet`: Acceso a internet desde el hogar:\n",
    "    * 0 = Si posee acceso a internet desde el hogar\n",
    "    * 1 = No posee acceso a internet desde el hogar\n",
    "* `romantic`: Relación romántica:\n",
    "    * 0 = No se encuentra en una relación romántica\n",
    "    * 1 = Si se encuentra en una relación romántica\n",
    "* `famrel`: Calidad de las relaciones familiares (numérica: de 1 - muy malas a 5 - excelentes)\n",
    "* `freetime`: Tiempo libre fuera del colegio (numérica: de 1 - muy poco a 5 - mucho).\n",
    "* `gooutp`: Salidas con amigos (numérica: de 1 - muy pocas a 5 - muchas).\n",
    "* `Dalc`: Consumo de alcohol en día de semana (numérica: de 1 - muy bajo a 5 - muy alto).\n",
    "* `Walc`: Consumo de alcohol en fines de semana (numérica: de 1 - muy bajo a 5 - muy alto).\n",
    "* `health`: Estado de salud actual (numérica: from 1 - muy malo to 5 - muy bueno).\n",
    "* `absences`: Cantidad de ausencias escolares (numérica: de 0 a 93).\n",
    "* `G1`: Notas durante el primer semestre (numérica: de 0 a 20). __Este es uno de sus vectores objetivos para el modelo descriptivo__.\n",
    "* `G2`: Notas durante el segundo semestre (numérica: de 0 a 20). __Este es uno de sus vectores objetivos para el modelo descriptivo.__\n",
    "* `G3`: Promedio final (numérica: de 0 a 20). __Este es uno de sus vectores objetivos para el modelo descriptivo y el vector a predecir en el modelo predictivo.__\n",
    "* `G1_approved`: Informa si el estudiante aprobó el primer semestre (0= No, 1 = Si)\n",
    "* `G2_approved`: Informa si el estudiante aprobó el segundo semestre (0= No, 1 = Si)\n",
    "* `G3_approved`: Informa si el estudiante aprobó el año (0= No, 1 = Si)"
   ]
  },
  {
   "cell_type": "code",
   "execution_count": 26,
   "id": "8e3bd2a7-5488-4ef9-bf87-822f46619705",
   "metadata": {},
   "outputs": [
    {
     "data": {
      "image/png": "[encoded data removed]",
      "text/plain": [
       "<Figure size 1152x720 with 4 Axes>"
      ]
     },
     "metadata": {
      "needs_background": "light"
     },
     "output_type": "display_data"
    }
   ],
   "source": [
    "plt.figure(figsize = (16,10))\n",
    "plt.subplot(2,2,1)\n",
    "sns.countplot(y= \"separed_parents\", data = df, hue=\"G3_approved\",palette=\"mako\")\n",
    "plt.title(\"Unión de los padres vs. Desempeño escolar\", size=18)\n",
    "plt.ylabel(\"Relación de los padres\", size= 16)\n",
    "plt.yticks([0,1],[\"Juntos\", \"Separados\"],size=12)\n",
    "plt.xlabel(\"Cantidad de estudiantes\", size=14)\n",
    "plt.yticks(size=12)\n",
    "plt.legend(labels= [\"Reprobado\",\"Aprobado\"], loc = \"lower right\", title= \"Año escolar\");\n",
    "\n",
    "plt.subplot(2,2,2)\n",
    "sns.countplot(y= \"studytime\", data = df, hue=\"G1_approved\",palette=\"mako\")\n",
    "plt.title(\"Tiempo de estudio vs.\\n Desempeño escolar 1er Semestre\", size=18)\n",
    "plt.ylabel(\"Tiempo de estudio(semanal)\", size= 16)\n",
    "plt.yticks([0,1,2,3],[\"<2 hrs\",\"2-5 hrs\",\"5-10 hrs\",\">10 hrs\"],size=12)\n",
    "plt.xlabel(\"Cantidad de estudiantes\", size=14)\n",
    "plt.yticks(size=12)\n",
    "plt.legend(labels= [\"Reprobado\",\"Aprobado\"], loc = \"best\", title= \"1er Semestre\")\n",
    "\n",
    "plt.subplot(2,2,3)\n",
    "sns.countplot(y= \"Fedu\", data = df,palette=\"mako\")\n",
    "plt.title(\"Educación del padre\", size=18)\n",
    "plt.ylabel(\"Educación del padre\", size= 16)\n",
    "plt.yticks([0,1,2,3,4],[\"ninguna\",\"educ básica(4to)\",\"de 5to a 9 grado\",\"educación media\",\"educación superior\"],size=12)\n",
    "plt.xlabel(\"Cantidad de estudiantes\", size=14)\n",
    "plt.yticks(size=12);\n",
    "\n",
    "plt.subplot(2,2,4)\n",
    "sns.countplot(y= \"Medu\", data = df,palette=\"mako\")\n",
    "plt.title(\"Educación de la madre\", size=18)\n",
    "plt.ylabel(\"Educación de la madre\", size= 16)\n",
    "plt.yticks([0,1,2,3,4],[\"ninguna\",\"educ básica(4to)\",\"de 5to a 9 grado\",\"educación media\",\"educación superior\"],size=12)\n",
    "plt.xlabel(\"Cantidad de estudiantes\", size=14)\n",
    "plt.yticks(size=12)\n",
    "\n",
    "plt.tight_layout(w_pad = 5);"
   ]
  },
  {
   "cell_type": "markdown",
   "id": "a4f4c583-e124-458d-b98f-dcdd95fd4427",
   "metadata": {},
   "source": [
    "__Comentarios:__\n",
    "* La presencia de ambos padres en la vivienda podria inferir positivamente en el desempeño del estudiante.\n",
    "* Existe una mayor concentracion de estudiantes que dedican entre 2 y 5 horas semanales al estudio, esto ha traido buenos resultados para gran parte de este grupo, sin embargo otros estudiantes han dedicado menos de dos horas y de igual amnera han aprobado el primer semestre.\n",
    "* Se observa una tasa mayor de madres que poseen formación universitaria respecto a los padres. En promedio el grado escolar mayor alcanzado por los padres es de 5to a 9no grado de educacion básica."
   ]
  },
  {
   "cell_type": "code",
   "execution_count": 27,
   "id": "e3b04eba-be0f-4c0b-84ff-abff42f2293a",
   "metadata": {},
   "outputs": [
    {
     "data": {
      "image/png": "[encoded data removed]",
      "text/plain": [
       "<Figure size 1152x288 with 3 Axes>"
      ]
     },
     "metadata": {
      "needs_background": "light"
     },
     "output_type": "display_data"
    }
   ],
   "source": [
    "plt.figure(figsize = (16,4))\n",
    "\n",
    "plt.subplot(1,3,1)\n",
    "plt.title(\"Distribución de notas 1er semestre\",size=18)\n",
    "sns.countplot(x=df[\"G1\"],hue=df[\"G3_approved\"], palette=\"mako\")\n",
    "plt.ylabel(\"Cantidad de estudiantes\", size=14)\n",
    "plt.xlabel(\"Notas primer semestre\",size=14)\n",
    "plt.legend(labels= [\"Reprobado\",\"Aprobado\"], loc = \"best\", title= \"Año escolar\")\n",
    "\n",
    "plt.subplot(1,3,2)\n",
    "plt.title(\"Distribución de notas 2do semestre\",size=18)\n",
    "sns.countplot(x=df[\"G2\"],hue=df[\"G3_approved\"],palette=\"mako\")\n",
    "plt.ylabel(\"Cantidad de estudiantes\", size=14)\n",
    "plt.xlabel(\"Notas segundo semestre\",size=14)\n",
    "plt.legend(labels= [\"Reprobado\",\"Aprobado\"], loc = \"best\", title= \"Año escolar\")\n",
    "\n",
    "\n",
    "plt.subplot(1,3,3)\n",
    "plt.title(\"Distribución de notas año escolar\",size=18)\n",
    "sns.countplot(x=df[\"G3\"],palette=\"mako\")\n",
    "plt.ylabel(\"Cantidad de estudiantes\", size=14)\n",
    "plt.xlabel(\"Notas año escolar\",size=14)\n",
    "\n",
    "plt.tight_layout();"
   ]
  },
  {
   "cell_type": "markdown",
   "id": "cc6e81c6-d10c-4b12-8cce-b51ffc50020d",
   "metadata": {},
   "source": [
    "__Comentarios:__ Nuestros vectores objetivo serán las columnas que informan la calificación de los estudiantes durante diversos periodos. En el grafico anterior observamos:\n",
    "\n",
    "* Los estudiantes que reprobaron el año obtuvieron notas inferiores a 13 puntos en el primer semestre e inferiores a 11 puntos en el primer segundo semestre.\n",
    "\n",
    "* La mayor concentración de individuos estudiados aprobó el año con una calificación de 10 puntos, pocos estudiantes lograron obtener la nota máxima al final del año (20 puntos)."
   ]
  },
  {
   "cell_type": "markdown",
   "id": "2819e549-5160-45e8-9545-b3ecca42d656",
   "metadata": {},
   "source": [
    "# __Hito 3__: Modelación descriptiva."
   ]
  },
  {
   "cell_type": "code",
   "execution_count": 28,
   "id": "132726b5-a94d-4fdb-9951-bf8f29fb27c8",
   "metadata": {},
   "outputs": [
    {
     "data": {
      "text/html": [
       "<table class=\"simpletable\">\n",
       "<caption>OLS Regression Results</caption>\n",
       "<tr>\n",
       "  <th>Dep. Variable:</th>           <td>G1</td>        <th>  R-squared:         </th> <td>   0.290</td>\n",
       "</tr>\n",
       "<tr>\n",
       "  <th>Model:</th>                   <td>OLS</td>       <th>  Adj. R-squared:    </th> <td>   0.206</td>\n",
       "</tr>\n",
       "<tr>\n",
       "  <th>Method:</th>             <td>Least Squares</td>  <th>  F-statistic:       </th> <td>   3.449</td>\n",
       "</tr>\n",
       "<tr>\n",
       "  <th>Date:</th>             <td>Wed, 06 Apr 2022</td> <th>  Prob (F-statistic):</th> <td>4.09e-08</td>\n",
       "</tr>\n",
       "<tr>\n",
       "  <th>Time:</th>                 <td>20:11:17</td>     <th>  Log-Likelihood:    </th> <td> -691.94</td>\n",
       "</tr>\n",
       "<tr>\n",
       "  <th>No. Observations:</th>      <td>   284</td>      <th>  AIC:               </th> <td>   1446.</td>\n",
       "</tr>\n",
       "<tr>\n",
       "  <th>Df Residuals:</th>          <td>   253</td>      <th>  BIC:               </th> <td>   1559.</td>\n",
       "</tr>\n",
       "<tr>\n",
       "  <th>Df Model:</th>              <td>    30</td>      <th>                     </th>     <td> </td>   \n",
       "</tr>\n",
       "<tr>\n",
       "  <th>Covariance Type:</th>      <td>nonrobust</td>    <th>                     </th>     <td> </td>   \n",
       "</tr>\n",
       "</table>\n",
       "<table class=\"simpletable\">\n",
       "<tr>\n",
       "           <td></td>             <th>coef</th>     <th>std err</th>      <th>t</th>      <th>P>|t|</th>  <th>[0.025</th>    <th>0.975]</th>  \n",
       "</tr>\n",
       "<tr>\n",
       "  <th>Intercept</th>          <td>    8.5495</td> <td>    3.243</td> <td>    2.636</td> <td> 0.009</td> <td>    2.163</td> <td>   14.936</td>\n",
       "</tr>\n",
       "<tr>\n",
       "  <th>School_MS</th>          <td>   -0.4507</td> <td>    0.644</td> <td>   -0.699</td> <td> 0.485</td> <td>   -1.720</td> <td>    0.818</td>\n",
       "</tr>\n",
       "<tr>\n",
       "  <th>male</th>               <td>    0.6437</td> <td>    0.431</td> <td>    1.493</td> <td> 0.137</td> <td>   -0.205</td> <td>    1.493</td>\n",
       "</tr>\n",
       "<tr>\n",
       "  <th>age</th>                <td>    0.0657</td> <td>    0.177</td> <td>    0.371</td> <td> 0.711</td> <td>   -0.283</td> <td>    0.414</td>\n",
       "</tr>\n",
       "<tr>\n",
       "  <th>rural_house</th>        <td>   -0.1483</td> <td>    0.476</td> <td>   -0.311</td> <td> 0.756</td> <td>   -1.086</td> <td>    0.790</td>\n",
       "</tr>\n",
       "<tr>\n",
       "  <th>small_fam</th>          <td>    0.3188</td> <td>    0.434</td> <td>    0.734</td> <td> 0.464</td> <td>   -0.537</td> <td>    1.175</td>\n",
       "</tr>\n",
       "<tr>\n",
       "  <th>separed_parents</th>    <td>    0.1482</td> <td>    0.642</td> <td>    0.231</td> <td> 0.818</td> <td>   -1.116</td> <td>    1.413</td>\n",
       "</tr>\n",
       "<tr>\n",
       "  <th>Medu</th>               <td>    0.1739</td> <td>    0.236</td> <td>    0.738</td> <td> 0.461</td> <td>   -0.290</td> <td>    0.638</td>\n",
       "</tr>\n",
       "<tr>\n",
       "  <th>Fedu</th>               <td>    0.2106</td> <td>    0.228</td> <td>    0.923</td> <td> 0.357</td> <td>   -0.239</td> <td>    0.660</td>\n",
       "</tr>\n",
       "<tr>\n",
       "  <th>Mjob</th>               <td>    0.1663</td> <td>    0.142</td> <td>    1.168</td> <td> 0.244</td> <td>   -0.114</td> <td>    0.447</td>\n",
       "</tr>\n",
       "<tr>\n",
       "  <th>Fjob</th>               <td>    0.4095</td> <td>    0.189</td> <td>    2.167</td> <td> 0.031</td> <td>    0.037</td> <td>    0.782</td>\n",
       "</tr>\n",
       "<tr>\n",
       "  <th>reason</th>             <td>    0.2268</td> <td>    0.185</td> <td>    1.229</td> <td> 0.220</td> <td>   -0.137</td> <td>    0.590</td>\n",
       "</tr>\n",
       "<tr>\n",
       "  <th>guardian</th>           <td>    0.0260</td> <td>    0.320</td> <td>    0.081</td> <td> 0.935</td> <td>   -0.603</td> <td>    0.655</td>\n",
       "</tr>\n",
       "<tr>\n",
       "  <th>traveltime</th>         <td>   -0.0043</td> <td>    0.288</td> <td>   -0.015</td> <td> 0.988</td> <td>   -0.572</td> <td>    0.564</td>\n",
       "</tr>\n",
       "<tr>\n",
       "  <th>studytime</th>          <td>    0.4476</td> <td>    0.240</td> <td>    1.867</td> <td> 0.063</td> <td>   -0.025</td> <td>    0.920</td>\n",
       "</tr>\n",
       "<tr>\n",
       "  <th>failures</th>           <td>   -1.0064</td> <td>    0.277</td> <td>   -3.627</td> <td> 0.000</td> <td>   -1.553</td> <td>   -0.460</td>\n",
       "</tr>\n",
       "<tr>\n",
       "  <th>schoolsup</th>          <td>   -1.7657</td> <td>    0.562</td> <td>   -3.143</td> <td> 0.002</td> <td>   -2.872</td> <td>   -0.659</td>\n",
       "</tr>\n",
       "<tr>\n",
       "  <th>fam_without_sup</th>    <td>    0.8773</td> <td>    0.411</td> <td>    2.132</td> <td> 0.034</td> <td>    0.067</td> <td>    1.687</td>\n",
       "</tr>\n",
       "<tr>\n",
       "  <th>paid</th>               <td>   -0.1661</td> <td>    0.399</td> <td>   -0.416</td> <td> 0.678</td> <td>   -0.952</td> <td>    0.620</td>\n",
       "</tr>\n",
       "<tr>\n",
       "  <th>without_activities</th> <td>    0.4784</td> <td>    0.365</td> <td>    1.311</td> <td> 0.191</td> <td>   -0.240</td> <td>    1.197</td>\n",
       "</tr>\n",
       "<tr>\n",
       "  <th>no_nursery</th>         <td>    0.0342</td> <td>    0.453</td> <td>    0.076</td> <td> 0.940</td> <td>   -0.859</td> <td>    0.927</td>\n",
       "</tr>\n",
       "<tr>\n",
       "  <th>no_higher</th>          <td>   -1.2837</td> <td>    0.862</td> <td>   -1.489</td> <td> 0.138</td> <td>   -2.982</td> <td>    0.415</td>\n",
       "</tr>\n",
       "<tr>\n",
       "  <th>no_internet</th>        <td>   -0.0434</td> <td>    0.493</td> <td>   -0.088</td> <td> 0.930</td> <td>   -1.014</td> <td>    0.927</td>\n",
       "</tr>\n",
       "<tr>\n",
       "  <th>romantic</th>           <td>   -0.0474</td> <td>    0.396</td> <td>   -0.120</td> <td> 0.905</td> <td>   -0.828</td> <td>    0.733</td>\n",
       "</tr>\n",
       "<tr>\n",
       "  <th>famrel</th>             <td>    0.1179</td> <td>    0.210</td> <td>    0.562</td> <td> 0.575</td> <td>   -0.295</td> <td>    0.531</td>\n",
       "</tr>\n",
       "<tr>\n",
       "  <th>freetime</th>           <td>    0.3238</td> <td>    0.190</td> <td>    1.705</td> <td> 0.089</td> <td>   -0.050</td> <td>    0.698</td>\n",
       "</tr>\n",
       "<tr>\n",
       "  <th>goout</th>              <td>   -0.7003</td> <td>    0.198</td> <td>   -3.535</td> <td> 0.000</td> <td>   -1.090</td> <td>   -0.310</td>\n",
       "</tr>\n",
       "<tr>\n",
       "  <th>Dalc</th>               <td>   -0.1375</td> <td>    0.281</td> <td>   -0.489</td> <td> 0.625</td> <td>   -0.691</td> <td>    0.416</td>\n",
       "</tr>\n",
       "<tr>\n",
       "  <th>Walc</th>               <td>    0.1431</td> <td>    0.210</td> <td>    0.683</td> <td> 0.495</td> <td>   -0.270</td> <td>    0.556</td>\n",
       "</tr>\n",
       "<tr>\n",
       "  <th>health</th>             <td>   -0.2755</td> <td>    0.139</td> <td>   -1.986</td> <td> 0.048</td> <td>   -0.549</td> <td>   -0.002</td>\n",
       "</tr>\n",
       "<tr>\n",
       "  <th>absences</th>           <td>   -0.0046</td> <td>    0.024</td> <td>   -0.195</td> <td> 0.846</td> <td>   -0.051</td> <td>    0.042</td>\n",
       "</tr>\n",
       "</table>\n",
       "<table class=\"simpletable\">\n",
       "<tr>\n",
       "  <th>Omnibus:</th>       <td> 7.008</td> <th>  Durbin-Watson:     </th> <td>   2.028</td>\n",
       "</tr>\n",
       "<tr>\n",
       "  <th>Prob(Omnibus):</th> <td> 0.030</td> <th>  Jarque-Bera (JB):  </th> <td>   4.434</td>\n",
       "</tr>\n",
       "<tr>\n",
       "  <th>Skew:</th>          <td> 0.132</td> <th>  Prob(JB):          </th> <td>   0.109</td>\n",
       "</tr>\n",
       "<tr>\n",
       "  <th>Kurtosis:</th>      <td> 2.447</td> <th>  Cond. No.          </th> <td>    376.</td>\n",
       "</tr>\n",
       "</table><br/><br/>Notes:<br/>[1] Standard Errors assume that the covariance matrix of the errors is correctly specified."
      ],
      "text/plain": [
       "<class 'statsmodels.iolib.summary.Summary'>\n",
       "\"\"\"\n",
       "                            OLS Regression Results                            \n",
       "==============================================================================\n",
       "Dep. Variable:                     G1   R-squared:                       0.290\n",
       "Model:                            OLS   Adj. R-squared:                  0.206\n",
       "Method:                 Least Squares   F-statistic:                     3.449\n",
       "Date:                Wed, 06 Apr 2022   Prob (F-statistic):           4.09e-08\n",
       "Time:                        20:11:17   Log-Likelihood:                -691.94\n",
       "No. Observations:                 284   AIC:                             1446.\n",
       "Df Residuals:                     253   BIC:                             1559.\n",
       "Df Model:                          30                                         \n",
       "Covariance Type:            nonrobust                                         \n",
       "======================================================================================\n",
       "                         coef    std err          t      P>|t|      [0.025      0.975]\n",
       "--------------------------------------------------------------------------------------\n",
       "Intercept              8.5495      3.243      2.636      0.009       2.163      14.936\n",
       "School_MS             -0.4507      0.644     -0.699      0.485      -1.720       0.818\n",
       "male                   0.6437      0.431      1.493      0.137      -0.205       1.493\n",
       "age                    0.0657      0.177      0.371      0.711      -0.283       0.414\n",
       "rural_house           -0.1483      0.476     -0.311      0.756      -1.086       0.790\n",
       "small_fam              0.3188      0.434      0.734      0.464      -0.537       1.175\n",
       "separed_parents        0.1482      0.642      0.231      0.818      -1.116       1.413\n",
       "Medu                   0.1739      0.236      0.738      0.461      -0.290       0.638\n",
       "Fedu                   0.2106      0.228      0.923      0.357      -0.239       0.660\n",
       "Mjob                   0.1663      0.142      1.168      0.244      -0.114       0.447\n",
       "Fjob                   0.4095      0.189      2.167      0.031       0.037       0.782\n",
       "reason                 0.2268      0.185      1.229      0.220      -0.137       0.590\n",
       "guardian               0.0260      0.320      0.081      0.935      -0.603       0.655\n",
       "traveltime            -0.0043      0.288     -0.015      0.988      -0.572       0.564\n",
       "studytime              0.4476      0.240      1.867      0.063      -0.025       0.920\n",
       "failures              -1.0064      0.277     -3.627      0.000      -1.553      -0.460\n",
       "schoolsup             -1.7657      0.562     -3.143      0.002      -2.872      -0.659\n",
       "fam_without_sup        0.8773      0.411      2.132      0.034       0.067       1.687\n",
       "paid                  -0.1661      0.399     -0.416      0.678      -0.952       0.620\n",
       "without_activities     0.4784      0.365      1.311      0.191      -0.240       1.197\n",
       "no_nursery             0.0342      0.453      0.076      0.940      -0.859       0.927\n",
       "no_higher             -1.2837      0.862     -1.489      0.138      -2.982       0.415\n",
       "no_internet           -0.0434      0.493     -0.088      0.930      -1.014       0.927\n",
       "romantic              -0.0474      0.396     -0.120      0.905      -0.828       0.733\n",
       "famrel                 0.1179      0.210      0.562      0.575      -0.295       0.531\n",
       "freetime               0.3238      0.190      1.705      0.089      -0.050       0.698\n",
       "goout                 -0.7003      0.198     -3.535      0.000      -1.090      -0.310\n",
       "Dalc                  -0.1375      0.281     -0.489      0.625      -0.691       0.416\n",
       "Walc                   0.1431      0.210      0.683      0.495      -0.270       0.556\n",
       "health                -0.2755      0.139     -1.986      0.048      -0.549      -0.002\n",
       "absences              -0.0046      0.024     -0.195      0.846      -0.051       0.042\n",
       "==============================================================================\n",
       "Omnibus:                        7.008   Durbin-Watson:                   2.028\n",
       "Prob(Omnibus):                  0.030   Jarque-Bera (JB):                4.434\n",
       "Skew:                           0.132   Prob(JB):                        0.109\n",
       "Kurtosis:                       2.447   Cond. No.                         376.\n",
       "==============================================================================\n",
       "\n",
       "Notes:\n",
       "[1] Standard Errors assume that the covariance matrix of the errors is correctly specified.\n",
       "\"\"\""
      ]
     },
     "execution_count": 28,
     "metadata": {},
     "output_type": "execute_result"
    }
   ],
   "source": [
    "modelo_desc_g1_1 = smf.ols(\"G1 ~ School_MS + male + age + rural_house + small_fam + separed_parents + Medu + Fedu + Mjob + Fjob + reason + guardian + traveltime + studytime + failures + schoolsup + fam_without_sup + paid + without_activities + no_nursery + no_higher + no_internet + romantic + famrel + freetime + goout + Dalc + Walc + health + absences\",df).fit()\n",
    "modelo_desc_g1_1.summary()"
   ]
  },
  {
   "cell_type": "code",
   "execution_count": 29,
   "id": "81984573-e4ee-4150-a6d4-87d65dd854a5",
   "metadata": {},
   "outputs": [
    {
     "data": {
      "text/html": [
       "<table class=\"simpletable\">\n",
       "<caption>OLS Regression Results</caption>\n",
       "<tr>\n",
       "  <th>Dep. Variable:</th>           <td>G1</td>        <th>  R-squared:         </th> <td>   0.184</td>\n",
       "</tr>\n",
       "<tr>\n",
       "  <th>Model:</th>                   <td>OLS</td>       <th>  Adj. R-squared:    </th> <td>   0.176</td>\n",
       "</tr>\n",
       "<tr>\n",
       "  <th>Method:</th>             <td>Least Squares</td>  <th>  F-statistic:       </th> <td>   21.11</td>\n",
       "</tr>\n",
       "<tr>\n",
       "  <th>Date:</th>             <td>Wed, 06 Apr 2022</td> <th>  Prob (F-statistic):</th> <td>2.35e-12</td>\n",
       "</tr>\n",
       "<tr>\n",
       "  <th>Time:</th>                 <td>20:11:17</td>     <th>  Log-Likelihood:    </th> <td> -711.67</td>\n",
       "</tr>\n",
       "<tr>\n",
       "  <th>No. Observations:</th>      <td>   284</td>      <th>  AIC:               </th> <td>   1431.</td>\n",
       "</tr>\n",
       "<tr>\n",
       "  <th>Df Residuals:</th>          <td>   280</td>      <th>  BIC:               </th> <td>   1446.</td>\n",
       "</tr>\n",
       "<tr>\n",
       "  <th>Df Model:</th>              <td>     3</td>      <th>                     </th>     <td> </td>   \n",
       "</tr>\n",
       "<tr>\n",
       "  <th>Covariance Type:</th>      <td>nonrobust</td>    <th>                     </th>     <td> </td>   \n",
       "</tr>\n",
       "</table>\n",
       "<table class=\"simpletable\">\n",
       "<tr>\n",
       "      <td></td>         <th>coef</th>     <th>std err</th>      <th>t</th>      <th>P>|t|</th>  <th>[0.025</th>    <th>0.975]</th>  \n",
       "</tr>\n",
       "<tr>\n",
       "  <th>Intercept</th> <td>   13.4322</td> <td>    0.547</td> <td>   24.556</td> <td> 0.000</td> <td>   12.355</td> <td>   14.509</td>\n",
       "</tr>\n",
       "<tr>\n",
       "  <th>failures</th>  <td>   -1.3342</td> <td>    0.246</td> <td>   -5.417</td> <td> 0.000</td> <td>   -1.819</td> <td>   -0.849</td>\n",
       "</tr>\n",
       "<tr>\n",
       "  <th>schoolsup</th> <td>   -2.0681</td> <td>    0.521</td> <td>   -3.968</td> <td> 0.000</td> <td>   -3.094</td> <td>   -1.042</td>\n",
       "</tr>\n",
       "<tr>\n",
       "  <th>goout</th>     <td>   -0.5758</td> <td>    0.167</td> <td>   -3.439</td> <td> 0.001</td> <td>   -0.905</td> <td>   -0.246</td>\n",
       "</tr>\n",
       "</table>\n",
       "<table class=\"simpletable\">\n",
       "<tr>\n",
       "  <th>Omnibus:</th>       <td> 6.521</td> <th>  Durbin-Watson:     </th> <td>   2.005</td>\n",
       "</tr>\n",
       "<tr>\n",
       "  <th>Prob(Omnibus):</th> <td> 0.038</td> <th>  Jarque-Bera (JB):  </th> <td>   4.998</td>\n",
       "</tr>\n",
       "<tr>\n",
       "  <th>Skew:</th>          <td> 0.214</td> <th>  Prob(JB):          </th> <td>  0.0821</td>\n",
       "</tr>\n",
       "<tr>\n",
       "  <th>Kurtosis:</th>      <td> 2.510</td> <th>  Cond. No.          </th> <td>    11.5</td>\n",
       "</tr>\n",
       "</table><br/><br/>Notes:<br/>[1] Standard Errors assume that the covariance matrix of the errors is correctly specified."
      ],
      "text/plain": [
       "<class 'statsmodels.iolib.summary.Summary'>\n",
       "\"\"\"\n",
       "                            OLS Regression Results                            \n",
       "==============================================================================\n",
       "Dep. Variable:                     G1   R-squared:                       0.184\n",
       "Model:                            OLS   Adj. R-squared:                  0.176\n",
       "Method:                 Least Squares   F-statistic:                     21.11\n",
       "Date:                Wed, 06 Apr 2022   Prob (F-statistic):           2.35e-12\n",
       "Time:                        20:11:17   Log-Likelihood:                -711.67\n",
       "No. Observations:                 284   AIC:                             1431.\n",
       "Df Residuals:                     280   BIC:                             1446.\n",
       "Df Model:                           3                                         \n",
       "Covariance Type:            nonrobust                                         \n",
       "==============================================================================\n",
       "                 coef    std err          t      P>|t|      [0.025      0.975]\n",
       "------------------------------------------------------------------------------\n",
       "Intercept     13.4322      0.547     24.556      0.000      12.355      14.509\n",
       "failures      -1.3342      0.246     -5.417      0.000      -1.819      -0.849\n",
       "schoolsup     -2.0681      0.521     -3.968      0.000      -3.094      -1.042\n",
       "goout         -0.5758      0.167     -3.439      0.001      -0.905      -0.246\n",
       "==============================================================================\n",
       "Omnibus:                        6.521   Durbin-Watson:                   2.005\n",
       "Prob(Omnibus):                  0.038   Jarque-Bera (JB):                4.998\n",
       "Skew:                           0.214   Prob(JB):                       0.0821\n",
       "Kurtosis:                       2.510   Cond. No.                         11.5\n",
       "==============================================================================\n",
       "\n",
       "Notes:\n",
       "[1] Standard Errors assume that the covariance matrix of the errors is correctly specified.\n",
       "\"\"\""
      ]
     },
     "execution_count": 29,
     "metadata": {},
     "output_type": "execute_result"
    }
   ],
   "source": [
    "modelo_desc_g1_2 = smf.ols(\"G1 ~ failures + schoolsup + goout\", df).fit()\n",
    "modelo_desc_g1_2.summary()"
   ]
  },
  {
   "cell_type": "code",
   "execution_count": 30,
   "id": "ce0d6dee-7a91-495c-bdbb-9b98ef4eddd9",
   "metadata": {},
   "outputs": [
    {
     "data": {
      "text/html": [
       "<table class=\"simpletable\">\n",
       "<caption>OLS Regression Results</caption>\n",
       "<tr>\n",
       "  <th>Dep. Variable:</th>           <td>G2</td>        <th>  R-squared:         </th> <td>   0.772</td>\n",
       "</tr>\n",
       "<tr>\n",
       "  <th>Model:</th>                   <td>OLS</td>       <th>  Adj. R-squared:    </th> <td>   0.744</td>\n",
       "</tr>\n",
       "<tr>\n",
       "  <th>Method:</th>             <td>Least Squares</td>  <th>  F-statistic:       </th> <td>   27.56</td>\n",
       "</tr>\n",
       "<tr>\n",
       "  <th>Date:</th>             <td>Wed, 06 Apr 2022</td> <th>  Prob (F-statistic):</th> <td>5.45e-64</td>\n",
       "</tr>\n",
       "<tr>\n",
       "  <th>Time:</th>                 <td>20:11:17</td>     <th>  Log-Likelihood:    </th> <td> -570.74</td>\n",
       "</tr>\n",
       "<tr>\n",
       "  <th>No. Observations:</th>      <td>   284</td>      <th>  AIC:               </th> <td>   1205.</td>\n",
       "</tr>\n",
       "<tr>\n",
       "  <th>Df Residuals:</th>          <td>   252</td>      <th>  BIC:               </th> <td>   1322.</td>\n",
       "</tr>\n",
       "<tr>\n",
       "  <th>Df Model:</th>              <td>    31</td>      <th>                     </th>     <td> </td>   \n",
       "</tr>\n",
       "<tr>\n",
       "  <th>Covariance Type:</th>      <td>nonrobust</td>    <th>                     </th>     <td> </td>   \n",
       "</tr>\n",
       "</table>\n",
       "<table class=\"simpletable\">\n",
       "<tr>\n",
       "           <td></td>             <th>coef</th>     <th>std err</th>      <th>t</th>      <th>P>|t|</th>  <th>[0.025</th>    <th>0.975]</th>  \n",
       "</tr>\n",
       "<tr>\n",
       "  <th>Intercept</th>          <td>    5.3087</td> <td>    2.149</td> <td>    2.470</td> <td> 0.014</td> <td>    1.075</td> <td>    9.542</td>\n",
       "</tr>\n",
       "<tr>\n",
       "  <th>School_MS</th>          <td>    0.7898</td> <td>    0.422</td> <td>    1.872</td> <td> 0.062</td> <td>   -0.041</td> <td>    1.620</td>\n",
       "</tr>\n",
       "<tr>\n",
       "  <th>male</th>               <td>    0.1643</td> <td>    0.283</td> <td>    0.580</td> <td> 0.562</td> <td>   -0.393</td> <td>    0.722</td>\n",
       "</tr>\n",
       "<tr>\n",
       "  <th>age</th>                <td>   -0.1965</td> <td>    0.116</td> <td>   -1.698</td> <td> 0.091</td> <td>   -0.424</td> <td>    0.031</td>\n",
       "</tr>\n",
       "<tr>\n",
       "  <th>rural_house</th>        <td>   -0.8030</td> <td>    0.312</td> <td>   -2.578</td> <td> 0.011</td> <td>   -1.417</td> <td>   -0.190</td>\n",
       "</tr>\n",
       "<tr>\n",
       "  <th>small_fam</th>          <td>    0.1168</td> <td>    0.284</td> <td>    0.411</td> <td> 0.682</td> <td>   -0.443</td> <td>    0.677</td>\n",
       "</tr>\n",
       "<tr>\n",
       "  <th>separed_parents</th>    <td>    0.3783</td> <td>    0.420</td> <td>    0.901</td> <td> 0.368</td> <td>   -0.449</td> <td>    1.205</td>\n",
       "</tr>\n",
       "<tr>\n",
       "  <th>Medu</th>               <td>    0.1386</td> <td>    0.154</td> <td>    0.899</td> <td> 0.370</td> <td>   -0.165</td> <td>    0.442</td>\n",
       "</tr>\n",
       "<tr>\n",
       "  <th>Fedu</th>               <td>   -0.2728</td> <td>    0.150</td> <td>   -1.824</td> <td> 0.069</td> <td>   -0.567</td> <td>    0.022</td>\n",
       "</tr>\n",
       "<tr>\n",
       "  <th>Mjob</th>               <td>   -0.0511</td> <td>    0.093</td> <td>   -0.547</td> <td> 0.585</td> <td>   -0.235</td> <td>    0.133</td>\n",
       "</tr>\n",
       "<tr>\n",
       "  <th>Fjob</th>               <td>   -0.1463</td> <td>    0.125</td> <td>   -1.173</td> <td> 0.242</td> <td>   -0.392</td> <td>    0.099</td>\n",
       "</tr>\n",
       "<tr>\n",
       "  <th>reason</th>             <td>    0.1766</td> <td>    0.121</td> <td>    1.459</td> <td> 0.146</td> <td>   -0.062</td> <td>    0.415</td>\n",
       "</tr>\n",
       "<tr>\n",
       "  <th>guardian</th>           <td>    0.1160</td> <td>    0.209</td> <td>    0.555</td> <td> 0.580</td> <td>   -0.296</td> <td>    0.528</td>\n",
       "</tr>\n",
       "<tr>\n",
       "  <th>traveltime</th>         <td>   -0.2435</td> <td>    0.189</td> <td>   -1.291</td> <td> 0.198</td> <td>   -0.615</td> <td>    0.128</td>\n",
       "</tr>\n",
       "<tr>\n",
       "  <th>studytime</th>          <td>   -0.0545</td> <td>    0.158</td> <td>   -0.345</td> <td> 0.730</td> <td>   -0.365</td> <td>    0.256</td>\n",
       "</tr>\n",
       "<tr>\n",
       "  <th>failures</th>           <td>   -0.0537</td> <td>    0.186</td> <td>   -0.289</td> <td> 0.773</td> <td>   -0.420</td> <td>    0.313</td>\n",
       "</tr>\n",
       "<tr>\n",
       "  <th>schoolsup</th>          <td>    0.6900</td> <td>    0.374</td> <td>    1.843</td> <td> 0.067</td> <td>   -0.048</td> <td>    1.428</td>\n",
       "</tr>\n",
       "<tr>\n",
       "  <th>fam_without_sup</th>    <td>    0.0866</td> <td>    0.271</td> <td>    0.319</td> <td> 0.750</td> <td>   -0.448</td> <td>    0.621</td>\n",
       "</tr>\n",
       "<tr>\n",
       "  <th>paid</th>               <td>    0.4220</td> <td>    0.261</td> <td>    1.617</td> <td> 0.107</td> <td>   -0.092</td> <td>    0.936</td>\n",
       "</tr>\n",
       "<tr>\n",
       "  <th>without_activities</th> <td>   -0.2784</td> <td>    0.239</td> <td>   -1.163</td> <td> 0.246</td> <td>   -0.750</td> <td>    0.193</td>\n",
       "</tr>\n",
       "<tr>\n",
       "  <th>no_nursery</th>         <td>   -0.1592</td> <td>    0.296</td> <td>   -0.537</td> <td> 0.592</td> <td>   -0.743</td> <td>    0.425</td>\n",
       "</tr>\n",
       "<tr>\n",
       "  <th>no_higher</th>          <td>    0.1167</td> <td>    0.566</td> <td>    0.206</td> <td> 0.837</td> <td>   -0.999</td> <td>    1.232</td>\n",
       "</tr>\n",
       "<tr>\n",
       "  <th>no_internet</th>        <td>   -0.4006</td> <td>    0.322</td> <td>   -1.244</td> <td> 0.215</td> <td>   -1.035</td> <td>    0.234</td>\n",
       "</tr>\n",
       "<tr>\n",
       "  <th>romantic</th>           <td>   -0.6190</td> <td>    0.259</td> <td>   -2.389</td> <td> 0.018</td> <td>   -1.129</td> <td>   -0.109</td>\n",
       "</tr>\n",
       "<tr>\n",
       "  <th>famrel</th>             <td>   -0.0813</td> <td>    0.137</td> <td>   -0.592</td> <td> 0.554</td> <td>   -0.352</td> <td>    0.189</td>\n",
       "</tr>\n",
       "<tr>\n",
       "  <th>freetime</th>           <td>   -0.0586</td> <td>    0.125</td> <td>   -0.469</td> <td> 0.639</td> <td>   -0.305</td> <td>    0.187</td>\n",
       "</tr>\n",
       "<tr>\n",
       "  <th>goout</th>              <td>   -0.2110</td> <td>    0.133</td> <td>   -1.590</td> <td> 0.113</td> <td>   -0.472</td> <td>    0.050</td>\n",
       "</tr>\n",
       "<tr>\n",
       "  <th>Dalc</th>               <td>   -0.0963</td> <td>    0.184</td> <td>   -0.524</td> <td> 0.601</td> <td>   -0.459</td> <td>    0.266</td>\n",
       "</tr>\n",
       "<tr>\n",
       "  <th>Walc</th>               <td>    0.2197</td> <td>    0.137</td> <td>    1.602</td> <td> 0.111</td> <td>   -0.050</td> <td>    0.490</td>\n",
       "</tr>\n",
       "<tr>\n",
       "  <th>health</th>             <td>   -0.0926</td> <td>    0.091</td> <td>   -1.013</td> <td> 0.312</td> <td>   -0.273</td> <td>    0.087</td>\n",
       "</tr>\n",
       "<tr>\n",
       "  <th>absences</th>           <td>   -0.0030</td> <td>    0.016</td> <td>   -0.195</td> <td> 0.846</td> <td>   -0.034</td> <td>    0.028</td>\n",
       "</tr>\n",
       "<tr>\n",
       "  <th>G1</th>                 <td>    0.9681</td> <td>    0.041</td> <td>   23.547</td> <td> 0.000</td> <td>    0.887</td> <td>    1.049</td>\n",
       "</tr>\n",
       "</table>\n",
       "<table class=\"simpletable\">\n",
       "<tr>\n",
       "  <th>Omnibus:</th>       <td>112.396</td> <th>  Durbin-Watson:     </th> <td>   1.342</td> \n",
       "</tr>\n",
       "<tr>\n",
       "  <th>Prob(Omnibus):</th> <td> 0.000</td>  <th>  Jarque-Bera (JB):  </th> <td> 559.257</td> \n",
       "</tr>\n",
       "<tr>\n",
       "  <th>Skew:</th>          <td>-1.559</td>  <th>  Prob(JB):          </th> <td>3.62e-122</td>\n",
       "</tr>\n",
       "<tr>\n",
       "  <th>Kurtosis:</th>      <td> 9.127</td>  <th>  Cond. No.          </th> <td>    434.</td> \n",
       "</tr>\n",
       "</table><br/><br/>Notes:<br/>[1] Standard Errors assume that the covariance matrix of the errors is correctly specified."
      ],
      "text/plain": [
       "<class 'statsmodels.iolib.summary.Summary'>\n",
       "\"\"\"\n",
       "                            OLS Regression Results                            \n",
       "==============================================================================\n",
       "Dep. Variable:                     G2   R-squared:                       0.772\n",
       "Model:                            OLS   Adj. R-squared:                  0.744\n",
       "Method:                 Least Squares   F-statistic:                     27.56\n",
       "Date:                Wed, 06 Apr 2022   Prob (F-statistic):           5.45e-64\n",
       "Time:                        20:11:17   Log-Likelihood:                -570.74\n",
       "No. Observations:                 284   AIC:                             1205.\n",
       "Df Residuals:                     252   BIC:                             1322.\n",
       "Df Model:                          31                                         \n",
       "Covariance Type:            nonrobust                                         \n",
       "======================================================================================\n",
       "                         coef    std err          t      P>|t|      [0.025      0.975]\n",
       "--------------------------------------------------------------------------------------\n",
       "Intercept              5.3087      2.149      2.470      0.014       1.075       9.542\n",
       "School_MS              0.7898      0.422      1.872      0.062      -0.041       1.620\n",
       "male                   0.1643      0.283      0.580      0.562      -0.393       0.722\n",
       "age                   -0.1965      0.116     -1.698      0.091      -0.424       0.031\n",
       "rural_house           -0.8030      0.312     -2.578      0.011      -1.417      -0.190\n",
       "small_fam              0.1168      0.284      0.411      0.682      -0.443       0.677\n",
       "separed_parents        0.3783      0.420      0.901      0.368      -0.449       1.205\n",
       "Medu                   0.1386      0.154      0.899      0.370      -0.165       0.442\n",
       "Fedu                  -0.2728      0.150     -1.824      0.069      -0.567       0.022\n",
       "Mjob                  -0.0511      0.093     -0.547      0.585      -0.235       0.133\n",
       "Fjob                  -0.1463      0.125     -1.173      0.242      -0.392       0.099\n",
       "reason                 0.1766      0.121      1.459      0.146      -0.062       0.415\n",
       "guardian               0.1160      0.209      0.555      0.580      -0.296       0.528\n",
       "traveltime            -0.2435      0.189     -1.291      0.198      -0.615       0.128\n",
       "studytime             -0.0545      0.158     -0.345      0.730      -0.365       0.256\n",
       "failures              -0.0537      0.186     -0.289      0.773      -0.420       0.313\n",
       "schoolsup              0.6900      0.374      1.843      0.067      -0.048       1.428\n",
       "fam_without_sup        0.0866      0.271      0.319      0.750      -0.448       0.621\n",
       "paid                   0.4220      0.261      1.617      0.107      -0.092       0.936\n",
       "without_activities    -0.2784      0.239     -1.163      0.246      -0.750       0.193\n",
       "no_nursery            -0.1592      0.296     -0.537      0.592      -0.743       0.425\n",
       "no_higher              0.1167      0.566      0.206      0.837      -0.999       1.232\n",
       "no_internet           -0.4006      0.322     -1.244      0.215      -1.035       0.234\n",
       "romantic              -0.6190      0.259     -2.389      0.018      -1.129      -0.109\n",
       "famrel                -0.0813      0.137     -0.592      0.554      -0.352       0.189\n",
       "freetime              -0.0586      0.125     -0.469      0.639      -0.305       0.187\n",
       "goout                 -0.2110      0.133     -1.590      0.113      -0.472       0.050\n",
       "Dalc                  -0.0963      0.184     -0.524      0.601      -0.459       0.266\n",
       "Walc                   0.2197      0.137      1.602      0.111      -0.050       0.490\n",
       "health                -0.0926      0.091     -1.013      0.312      -0.273       0.087\n",
       "absences              -0.0030      0.016     -0.195      0.846      -0.034       0.028\n",
       "G1                     0.9681      0.041     23.547      0.000       0.887       1.049\n",
       "==============================================================================\n",
       "Omnibus:                      112.396   Durbin-Watson:                   1.342\n",
       "Prob(Omnibus):                  0.000   Jarque-Bera (JB):              559.257\n",
       "Skew:                          -1.559   Prob(JB):                    3.62e-122\n",
       "Kurtosis:                       9.127   Cond. No.                         434.\n",
       "==============================================================================\n",
       "\n",
       "Notes:\n",
       "[1] Standard Errors assume that the covariance matrix of the errors is correctly specified.\n",
       "\"\"\""
      ]
     },
     "execution_count": 30,
     "metadata": {},
     "output_type": "execute_result"
    }
   ],
   "source": [
    "modelo_desc_g2_1 = smf.ols(\"G2 ~ School_MS + male + age + rural_house + small_fam + separed_parents + Medu + Fedu + Mjob + Fjob + reason + guardian + traveltime + studytime + failures + schoolsup + fam_without_sup + paid + without_activities + no_nursery + no_higher + no_internet + romantic + famrel + freetime + goout + Dalc + Walc + health + absences + G1\",df).fit()\n",
    "modelo_desc_g2_1.summary()"
   ]
  },
  {
   "cell_type": "code",
   "execution_count": 31,
   "id": "303b5138-30b0-4c5e-b9a2-dab7ad8536ba",
   "metadata": {},
   "outputs": [
    {
     "data": {
      "text/html": [
       "<table class=\"simpletable\">\n",
       "<caption>OLS Regression Results</caption>\n",
       "<tr>\n",
       "  <th>Dep. Variable:</th>           <td>G2</td>        <th>  R-squared:         </th> <td>   0.738</td>\n",
       "</tr>\n",
       "<tr>\n",
       "  <th>Model:</th>                   <td>OLS</td>       <th>  Adj. R-squared:    </th> <td>   0.735</td>\n",
       "</tr>\n",
       "<tr>\n",
       "  <th>Method:</th>             <td>Least Squares</td>  <th>  F-statistic:       </th> <td>   262.9</td>\n",
       "</tr>\n",
       "<tr>\n",
       "  <th>Date:</th>             <td>Wed, 06 Apr 2022</td> <th>  Prob (F-statistic):</th> <td>4.22e-81</td>\n",
       "</tr>\n",
       "<tr>\n",
       "  <th>Time:</th>                 <td>20:11:18</td>     <th>  Log-Likelihood:    </th> <td> -590.62</td>\n",
       "</tr>\n",
       "<tr>\n",
       "  <th>No. Observations:</th>      <td>   284</td>      <th>  AIC:               </th> <td>   1189.</td>\n",
       "</tr>\n",
       "<tr>\n",
       "  <th>Df Residuals:</th>          <td>   280</td>      <th>  BIC:               </th> <td>   1204.</td>\n",
       "</tr>\n",
       "<tr>\n",
       "  <th>Df Model:</th>              <td>     3</td>      <th>                     </th>     <td> </td>   \n",
       "</tr>\n",
       "<tr>\n",
       "  <th>Covariance Type:</th>      <td>nonrobust</td>    <th>                     </th>     <td> </td>   \n",
       "</tr>\n",
       "</table>"
      ],
      "text/plain": [
       "<class 'statsmodels.iolib.table.SimpleTable'>"
      ]
     },
     "execution_count": 31,
     "metadata": {},
     "output_type": "execute_result"
    }
   ],
   "source": [
    "modelo_desc_g2_2 = smf.ols(\"G2 ~ rural_house + romantic + G1\",df).fit()\n",
    "modelo_desc_g2_2.summary().tables[0]"
   ]
  },
  {
   "cell_type": "code",
   "execution_count": 32,
   "id": "72fc078e-2fab-4e7d-b3fa-dbde15471650",
   "metadata": {},
   "outputs": [
    {
     "data": {
      "text/html": [
       "<table class=\"simpletable\">\n",
       "<caption>OLS Regression Results</caption>\n",
       "<tr>\n",
       "  <th>Dep. Variable:</th>           <td>G3</td>        <th>  R-squared:         </th> <td>   0.851</td>\n",
       "</tr>\n",
       "<tr>\n",
       "  <th>Model:</th>                   <td>OLS</td>       <th>  Adj. R-squared:    </th> <td>   0.832</td>\n",
       "</tr>\n",
       "<tr>\n",
       "  <th>Method:</th>             <td>Least Squares</td>  <th>  F-statistic:       </th> <td>   44.68</td>\n",
       "</tr>\n",
       "<tr>\n",
       "  <th>Date:</th>             <td>Wed, 06 Apr 2022</td> <th>  Prob (F-statistic):</th> <td>1.19e-85</td>\n",
       "</tr>\n",
       "<tr>\n",
       "  <th>Time:</th>                 <td>20:11:18</td>     <th>  Log-Likelihood:    </th> <td> -563.74</td>\n",
       "</tr>\n",
       "<tr>\n",
       "  <th>No. Observations:</th>      <td>   284</td>      <th>  AIC:               </th> <td>   1193.</td>\n",
       "</tr>\n",
       "<tr>\n",
       "  <th>Df Residuals:</th>          <td>   251</td>      <th>  BIC:               </th> <td>   1314.</td>\n",
       "</tr>\n",
       "<tr>\n",
       "  <th>Df Model:</th>              <td>    32</td>      <th>                     </th>     <td> </td>   \n",
       "</tr>\n",
       "<tr>\n",
       "  <th>Covariance Type:</th>      <td>nonrobust</td>    <th>                     </th>     <td> </td>   \n",
       "</tr>\n",
       "</table>"
      ],
      "text/plain": [
       "<class 'statsmodels.iolib.table.SimpleTable'>"
      ]
     },
     "execution_count": 32,
     "metadata": {},
     "output_type": "execute_result"
    }
   ],
   "source": [
    "modelo_desc_g3_1 = smf.ols(\"G3 ~ School_MS + male + age + rural_house + small_fam + separed_parents + Medu + Fedu + Mjob + Fjob + reason + guardian + traveltime + studytime + failures + schoolsup + fam_without_sup + paid + without_activities + no_nursery + no_higher + no_internet + romantic + famrel + freetime + goout + Dalc + Walc + health + absences + G1 + G2\",df).fit()\n",
    "modelo_desc_g3_1.summary().tables[0]"
   ]
  },
  {
   "cell_type": "code",
   "execution_count": 33,
   "id": "7ed13ed5-6f97-4f81-944d-8d89e5929c3b",
   "metadata": {},
   "outputs": [
    {
     "data": {
      "text/html": [
       "<table class=\"simpletable\">\n",
       "<caption>OLS Regression Results</caption>\n",
       "<tr>\n",
       "  <th>Dep. Variable:</th>           <td>G3</td>        <th>  R-squared:         </th> <td>   0.832</td> \n",
       "</tr>\n",
       "<tr>\n",
       "  <th>Model:</th>                   <td>OLS</td>       <th>  Adj. R-squared:    </th> <td>   0.829</td> \n",
       "</tr>\n",
       "<tr>\n",
       "  <th>Method:</th>             <td>Least Squares</td>  <th>  F-statistic:       </th> <td>   274.6</td> \n",
       "</tr>\n",
       "<tr>\n",
       "  <th>Date:</th>             <td>Wed, 06 Apr 2022</td> <th>  Prob (F-statistic):</th> <td>2.74e-105</td>\n",
       "</tr>\n",
       "<tr>\n",
       "  <th>Time:</th>                 <td>20:11:18</td>     <th>  Log-Likelihood:    </th> <td> -580.80</td> \n",
       "</tr>\n",
       "<tr>\n",
       "  <th>No. Observations:</th>      <td>   284</td>      <th>  AIC:               </th> <td>   1174.</td> \n",
       "</tr>\n",
       "<tr>\n",
       "  <th>Df Residuals:</th>          <td>   278</td>      <th>  BIC:               </th> <td>   1195.</td> \n",
       "</tr>\n",
       "<tr>\n",
       "  <th>Df Model:</th>              <td>     5</td>      <th>                     </th>     <td> </td>    \n",
       "</tr>\n",
       "<tr>\n",
       "  <th>Covariance Type:</th>      <td>nonrobust</td>    <th>                     </th>     <td> </td>    \n",
       "</tr>\n",
       "</table>"
      ],
      "text/plain": [
       "<class 'statsmodels.iolib.table.SimpleTable'>"
      ]
     },
     "execution_count": 33,
     "metadata": {},
     "output_type": "execute_result"
    }
   ],
   "source": [
    "modelo_desc_g3_2 = smf.ols(\"G3 ~ famrel + Walc + absences + G1 + G2\", df).fit()\n",
    "modelo_desc_g3_2.summary().tables[0]"
   ]
  },
  {
   "cell_type": "code",
   "execution_count": 34,
   "id": "fbddcb5f-ad53-45b8-94e5-06ea93c2ca98",
   "metadata": {},
   "outputs": [
    {
     "data": {
      "text/html": [
       "<table class=\"simpletable\">\n",
       "<caption>OLS Regression Results</caption>\n",
       "<tr>\n",
       "  <th>Dep. Variable:</th>           <td>G3</td>        <th>  R-squared:         </th> <td>   0.830</td> \n",
       "</tr>\n",
       "<tr>\n",
       "  <th>Model:</th>                   <td>OLS</td>       <th>  Adj. R-squared:    </th> <td>   0.827</td> \n",
       "</tr>\n",
       "<tr>\n",
       "  <th>Method:</th>             <td>Least Squares</td>  <th>  F-statistic:       </th> <td>   339.7</td> \n",
       "</tr>\n",
       "<tr>\n",
       "  <th>Date:</th>             <td>Wed, 06 Apr 2022</td> <th>  Prob (F-statistic):</th> <td>6.92e-106</td>\n",
       "</tr>\n",
       "<tr>\n",
       "  <th>Time:</th>                 <td>20:11:18</td>     <th>  Log-Likelihood:    </th> <td> -582.44</td> \n",
       "</tr>\n",
       "<tr>\n",
       "  <th>No. Observations:</th>      <td>   284</td>      <th>  AIC:               </th> <td>   1175.</td> \n",
       "</tr>\n",
       "<tr>\n",
       "  <th>Df Residuals:</th>          <td>   279</td>      <th>  BIC:               </th> <td>   1193.</td> \n",
       "</tr>\n",
       "<tr>\n",
       "  <th>Df Model:</th>              <td>     4</td>      <th>                     </th>     <td> </td>    \n",
       "</tr>\n",
       "<tr>\n",
       "  <th>Covariance Type:</th>      <td>nonrobust</td>    <th>                     </th>     <td> </td>    \n",
       "</tr>\n",
       "</table>"
      ],
      "text/plain": [
       "<class 'statsmodels.iolib.table.SimpleTable'>"
      ]
     },
     "execution_count": 34,
     "metadata": {},
     "output_type": "execute_result"
    }
   ],
   "source": [
    "modelo_desc_g3_3 = smf.ols(\"G3 ~ famrel +  absences + G1 + G2\", df).fit()\n",
    "modelo_desc_g3_3.summary().tables[0]"
   ]
  },
  {
   "cell_type": "markdown",
   "id": "2aff6099-2ef5-46d9-bd37-1d40f8e7d64d",
   "metadata": {},
   "source": [
    "# __Hito 4__: Modelación predictiva."
   ]
  },
  {
   "cell_type": "markdown",
   "id": "b4cbe15c-3e54-46f6-8452-c96347fe2454",
   "metadata": {},
   "source": [
    "__Comentarios:__ \n",
    "* Durante la etapa de prepocesamiento se realizó una inspección del set de datos, identificando la cantidad de columnas y tipos de variables en cada una. Posteriormente evaluamos la presencia de datos nulos o mal ingresados, los cuales fueron eliminados para no afectar el modelo con datos que no aportan información.\n",
    "\n",
    "* Realizamos una nueva agrupación de los atributos con variables categóricas, disminuyendo la cantidad de categorías por cada atributo, posteriormente se creó una columna para cada categoría creada con el fin de binarizarlas. Este proceso es importante ya que los modelos no son capaces de interpretar variables de tipo texto.\n",
    "\n",
    "* Se estandarizaran las matrices tanto la de entrenamiento como la de prueba, para facilitar el análisis de nuestros datos y con esto el set de datos se encuentra en condiciones para iniciar la modelación."
   ]
  },
  {
   "cell_type": "code",
   "execution_count": 35,
   "id": "6c0c0fb7-c99d-41ed-b2f2-2041931fac4d",
   "metadata": {},
   "outputs": [],
   "source": [
    "X = df.loc[:,[\"famrel\",\"absences\",\"G1\",\"G2\"]]\n",
    "y = df[\"G3\"]\n",
    "\n",
    "X = StandardScaler().fit_transform(X)\n",
    "\n",
    "X_train, X_test, y_train, y_test = train_test_split(X,y, test_size=0.33, random_state=12345)\n",
    "\n",
    "scaler = StandardScaler()"
   ]
  },
  {
   "cell_type": "code",
   "execution_count": 36,
   "id": "279f6cfc-6bfc-4bbb-bc12-fab995e942ca",
   "metadata": {},
   "outputs": [],
   "source": [
    "modelo_pred_1 = LinearRegression().fit(X_train, y_train)\n",
    "\n",
    "y_hat = modelo_pred_1.predict(X_test)"
   ]
  },
  {
   "cell_type": "code",
   "execution_count": 37,
   "id": "1cd703f6-7a11-4d8c-b7df-b8b514e15b81",
   "metadata": {},
   "outputs": [
    {
     "name": "stdout",
     "output_type": "stream",
     "text": [
      "El promedio de error cuadrado para el modelo es de 3.67\n"
     ]
    }
   ],
   "source": [
    "print(f\"El promedio de error cuadrado para el modelo es de\", round(mean_squared_error(y_test,y_hat),2))"
   ]
  },
  {
   "cell_type": "code",
   "execution_count": 38,
   "id": "fede75e5-f6c6-44a4-8d60-3f25a7dd47ca",
   "metadata": {},
   "outputs": [
    {
     "name": "stdout",
     "output_type": "stream",
     "text": [
      "El promedio de ajuste de los datos en el modelo es de 0.83\n"
     ]
    }
   ],
   "source": [
    "print(f\"El promedio de ajuste de los datos en el modelo es de\", round(r2_score(y_test, y_hat),2))"
   ]
  },
  {
   "cell_type": "code",
   "execution_count": 39,
   "id": "c993d2e0-7b71-40c3-a297-1b4245b36cd0",
   "metadata": {},
   "outputs": [
    {
     "data": {
      "image/png": "[encoded data removed]",
      "text/plain": [
       "<Figure size 1152x288 with 2 Axes>"
      ]
     },
     "metadata": {
      "needs_background": "light"
     },
     "output_type": "display_data"
    }
   ],
   "source": [
    "plt.figure(figsize = (16,4))\n",
    "\n",
    "plt.subplot(1,2,1)\n",
    "prediccion_train = modelo_pred_1.predict(X_train)\n",
    "plt.scatter(y_train, prediccion_train, edgecolors=(0, 0, 0), alpha = 0.4)\n",
    "plt.plot([y_train.min(), y_train.max()], [y_train.min(), y_train.max()],'--', color = 'black', lw=2)\n",
    "plt.title('Valor predicho vs valor real\\n en set de entrenamiento', fontsize = 16, fontweight = \"bold\")\n",
    "plt.ylabel(\"Predicción de la nota\")\n",
    "plt.xlabel(\"Nota Real\")\n",
    "\n",
    "plt.subplot(1,2,2)\n",
    "plt.scatter(y_test, y_hat, edgecolors=(0, 0, 0), alpha = 0.4)\n",
    "plt.plot([y_test.min(), y_test.max()], [y_test.min(), y_test.max()],'--', color = 'black', lw=2)\n",
    "plt.title('Valor predicho vs valor real\\n en set de prueba', fontsize = 16, fontweight = \"bold\")\n",
    "plt.ylabel(\"Predicción de la nota\")\n",
    "plt.xlabel(\"Nota Real\");"
   ]
  }
 ],
 "metadata": {
  "kernelspec": {
   "display_name": "Python 3 (ipykernel)",
   "language": "python",
   "name": "python3"
  },
  "language_info": {
   "codemirror_mode": {
    "name": "ipython",
    "version": 3
   },
   "file_extension": ".py",
   "mimetype": "text/x-python",
   "name": "python",
   "nbconvert_exporter": "python",
   "pygments_lexer": "ipython3",
   "version": "3.9.7"
  }
 },
 "nbformat": 4,
 "nbformat_minor": 5
}
